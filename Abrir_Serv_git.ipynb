{
 "cells": [
  {
   "cell_type": "code",
   "execution_count": 1,
   "id": "41e8b780",
   "metadata": {},
   "outputs": [],
   "source": [
    "import time\n",
    "import pyperclip\n",
    "import pyautogui\n",
    "\n",
    "#Abrir Servidor\n",
    "pyautogui.PAUSE=1.5\n",
    "pyautogui.press(\"winleft\")\n",
    "pyautogui.write(\"conexao\")\n",
    "pyautogui.press(\"enter\")\n",
    "time.sleep(3)\n",
    "pyautogui.press(\"enter\")\n"
   ]
  },
  {
   "cell_type": "code",
   "execution_count": 2,
   "id": "e75baa5d",
   "metadata": {},
   "outputs": [],
   "source": [
    "#Fazer Login\n",
    "time.sleep(7)\n",
    "pyautogui.PAUSE=1.5\n",
    "pyautogui.write(\"login\")\n",
    "pyautogui.press(\"tab\")\n",
    "pyautogui.write(\"senha\")\n",
    "pyautogui.press(\"enter\")"
   ]
  },
  {
   "cell_type": "code",
   "execution_count": null,
   "id": "a3ca4fbc",
   "metadata": {},
   "outputs": [],
   "source": []
  }
 ],
 "metadata": {
  "kernelspec": {
   "display_name": "Python 3 (ipykernel)",
   "language": "python",
   "name": "python3"
  },
  "language_info": {
   "codemirror_mode": {
    "name": "ipython",
    "version": 3
   },
   "file_extension": ".py",
   "mimetype": "text/x-python",
   "name": "python",
   "nbconvert_exporter": "python",
   "pygments_lexer": "ipython3",
   "version": "3.9.12"
  }
 },
 "nbformat": 4,
 "nbformat_minor": 5
}
