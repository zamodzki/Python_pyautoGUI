{
 "cells": [
  {
   "cell_type": "code",
   "execution_count": null,
   "id": "f6bdcb4e",
   "metadata": {},
   "outputs": [],
   "source": [
    "import pyautogui\n",
    "import time\n",
    "#pega o retorno da posicao atual de x e y do mouse e passa o valor da tupla para as duas variaveis\n",
    "print('Posicione o MOUSE')\n",
    "time.sleep(10)\n",
    "x, y = pyautogui.position()\n",
    "print (\"Posicao atual do mouse:\")\n",
    "print (\"x = \"+str(x)+\" y = \"+str(y))"
   ]
  }
 ],
 "metadata": {
  "kernelspec": {
   "display_name": "Python 3 (ipykernel)",
   "language": "python",
   "name": "python3"
  },
  "language_info": {
   "codemirror_mode": {
    "name": "ipython",
    "version": 3
   },
   "file_extension": ".py",
   "mimetype": "text/x-python",
   "name": "python",
   "nbconvert_exporter": "python",
   "pygments_lexer": "ipython3",
   "version": "3.9.12"
  }
 },
 "nbformat": 4,
 "nbformat_minor": 5
}
