{
 "cells": [
  {
   "cell_type": "code",
   "execution_count": 9,
   "id": "1362d010",
   "metadata": {},
   "outputs": [],
   "source": [
    "import time\n",
    "import pyperclip\n",
    "import pyautogui"
   ]
  },
  {
   "cell_type": "code",
   "execution_count": 10,
   "id": "f423d1a4",
   "metadata": {
    "scrolled": true
   },
   "outputs": [],
   "source": [
    "#Abrir Servidor\n",
    "pyautogui.alert(\"Olá, Sou o Gerson Vou começar a realizar a tarefa mas antes verifique se o CapsLock esta ligado. Após apertar 'OK' não toque em nada pois vou começar a trabalhar.\")\n",
    "pyautogui.PAUSE=1.5\n",
    "pyautogui.press(\"winleft\")\n",
    "pyautogui.write(\"conexao\")\n",
    "pyautogui.press(\"enter\")\n",
    "time.sleep(3)\n",
    "pyautogui.press(\"enter\")\n"
   ]
  },
  {
   "cell_type": "code",
   "execution_count": 11,
   "id": "af0673fa",
   "metadata": {},
   "outputs": [],
   "source": [
    "#Fazer Login\n",
    "time.sleep(7)\n",
    "pyautogui.PAUSE=1.5\n",
    "pyautogui.write(\"login\")\n",
    "pyautogui.press(\"tab\")\n",
    "pyautogui.write(\"senha\")\n",
    "pyautogui.press(\"enter\")"
   ]
  },
  {
   "cell_type": "code",
   "execution_count": 12,
   "id": "d91f78e7",
   "metadata": {},
   "outputs": [],
   "source": [
    "# Abrir o PLataforma\n",
    "pyautogui.click(x=37, y=359)\n",
    "pyautogui.press(\"enter\")\n"
   ]
  },
  {
   "cell_type": "code",
   "execution_count": 13,
   "id": "b5a559fb",
   "metadata": {},
   "outputs": [],
   "source": [
    "#Login Plataforma\n",
    "time.sleep(7)\n",
    "pyautogui.PAUSE=1.5\n",
    "pyautogui.write(\"login\")\n",
    "pyautogui.press(\"tab\")\n",
    "pyautogui.write(\"senha\")\n",
    "pyautogui.press(\"enter\")"
   ]
  },
  {
   "cell_type": "code",
   "execution_count": 14,
   "id": "8403ef10",
   "metadata": {},
   "outputs": [],
   "source": [
    "#Extração de dados\n",
    "pyautogui.PAUSE=2.5\n",
    "pyautogui.moveTo(1903, 175)\n",
    "pyautogui.mouseDown(button='left', x=1903, y=815)\n",
    "pyautogui.mouseUp(button='left', x=1903, y=816)\n",
    "pyautogui.moveTo(322, 843)\n",
    "pyautogui.click(clicks=2)"
   ]
  },
  {
   "cell_type": "code",
   "execution_count": 15,
   "id": "12063371",
   "metadata": {},
   "outputs": [],
   "source": [
    "#importar data de ontem\n",
    "from datetime import date\n",
    "pyautogui.PAUSE=2.5\n",
    "data_atual= date.today()\n",
    "data_em_texto = \"{}/{:02d}/{}\".format((data_atual.day-1), data_atual.month, data_atual.year)\n",
    "pyperclip.copy(data_em_texto)\n",
    "pyautogui.hotkey(\"ctrl\",\"v\")\n",
    "pyautogui.press(\"tab\")\n",
    "pyperclip.copy(data_em_texto)\n",
    "pyautogui.hotkey(\"ctrl\",\"v\")\n",
    "pyautogui.press(\"enter\")\n",
    "pyautogui.press(\"enter\")"
   ]
  },
  {
   "cell_type": "code",
   "execution_count": 16,
   "id": "172c812b",
   "metadata": {},
   "outputs": [
    {
     "data": {
      "text/plain": [
       "'OK'"
      ]
     },
     "execution_count": 16,
     "metadata": {},
     "output_type": "execute_result"
    }
   ],
   "source": [
    "#Escrever e enviar o e-mail\n",
    "pyautogui.PAUSE=1.5\n",
    "pyautogui.press(\"winleft\")\n",
    "pyautogui.write(\"chrome\")\n",
    "pyautogui.press(\"enter\")\n",
    "time.sleep(3)\n",
    "pyautogui.write(\"mail.google.com\")\n",
    "pyautogui.press(\"enter\")\n",
    "time.sleep(10)\n",
    "pyautogui.click(x=56, y=167)\n",
    "time.sleep(10)\n",
    "pyautogui.write(\"gestor@gmail.com\")\n",
    "pyautogui.press(\"tab\")\n",
    "pyautogui.press(\"tab\")\n",
    "pyautogui.write(\"Relatorio de Vendas de Ontem\")\n",
    "pyautogui.press(\"tab\")\n",
    "pyautogui.write(\"Prezados, bom dia\")\n",
    "pyautogui.press(\"enter\")\n",
    "pyautogui.press(\"enter\")\n",
    "pyautogui.press(\"enter\")\n",
    "pyautogui.write(\"O faturamento de ontem foi de: R$\")\n",
    "pyautogui.click(x=270, y=1057) #click dash\n",
    "pyautogui.click(x=130, y=196)\n",
    "pyautogui.hotkey(\"ctrl\",\"c\")\n",
    "pyautogui.click(x=213, y=1061) #click chrome\n",
    "pyautogui.hotkey(\"ctrl\",\"v\")\n",
    "pyautogui.press(\"enter\")\n",
    "pyautogui.write(\"O numero de tickets foi de: \")\n",
    "pyautogui.click(x=270, y=1057) #click dash\n",
    "pyautogui.click(x=236, y=195)\n",
    "pyautogui.hotkey(\"ctrl\",\"c\")\n",
    "pyautogui.click(x=213, y=1061)\n",
    "pyautogui.hotkey(\"ctrl\",\"v\")\n",
    "pyautogui.press(\"enter\")\n",
    "pyautogui.write(\"O ticket medio foi de: \")\n",
    "pyautogui.click(x=270, y=1057) #click dash\n",
    "pyautogui.click(x=336, y=196)\n",
    "pyautogui.hotkey(\"ctrl\",\"c\")\n",
    "pyautogui.click(x=213, y=1061)\n",
    "pyautogui.hotkey(\"ctrl\",\"v\")\n",
    "pyautogui.hotkey(\"ctrl\",\"enter\")\n",
    "pyautogui.alert(\"Fim do trabalho.\")"
   ]
  },
  {
   "cell_type": "markdown",
   "id": "bd2496e2",
   "metadata": {},
   "source": []
  },
  {
   "cell_type": "markdown",
   "id": "0c7df2ff",
   "metadata": {},
   "source": []
  },
  {
   "cell_type": "markdown",
   "id": "6464dcb1",
   "metadata": {},
   "source": []
  }
 ],
 "metadata": {
  "kernelspec": {
   "display_name": "Python 3 (ipykernel)",
   "language": "python",
   "name": "python3"
  },
  "language_info": {
   "codemirror_mode": {
    "name": "ipython",
    "version": 3
   },
   "file_extension": ".py",
   "mimetype": "text/x-python",
   "name": "python",
   "nbconvert_exporter": "python",
   "pygments_lexer": "ipython3",
   "version": "3.9.12"
  }
 },
 "nbformat": 4,
 "nbformat_minor": 5
}
